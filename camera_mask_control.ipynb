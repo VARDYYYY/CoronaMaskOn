{
 "cells": [
  {
   "cell_type": "code",
   "execution_count": 3,
   "metadata": {},
   "outputs": [
    {
     "name": "stdout",
     "output_type": "stream",
     "text": [
      "Collecting python-vlc\n",
      "  Downloading python_vlc-3.0.7110-py3-none-any.whl (80 kB)\n",
      "\u001b[K     |████████████████████████████████| 80 kB 681 kB/s eta 0:00:01\n",
      "\u001b[?25hInstalling collected packages: python-vlc\n",
      "Successfully installed python-vlc-3.0.7110\n",
      "Note: you may need to restart the kernel to use updated packages.\n"
     ]
    }
   ],
   "source": [
    "pip install python-vlc"
   ]
  },
  {
   "cell_type": "code",
   "execution_count": null,
   "metadata": {},
   "outputs": [
    {
     "name": "stderr",
     "output_type": "stream",
     "text": [
      "/Users/emreulgac/anaconda3/lib/python3.7/site-packages/ipykernel_launcher.py:20: RuntimeWarning: overflow encountered in exp\n"
     ]
    }
   ],
   "source": [
    "import cv2\n",
    "import sys\n",
    "import tensorflow as tf\n",
    "import vlc\n",
    "from tensorflow.keras.models import Sequential\n",
    "from tensorflow.keras.layers import Dense, Conv2D, Flatten, Dropout, MaxPooling2D\n",
    "from tensorflow.keras.preprocessing.image import ImageDataGenerator\n",
    "from tensorflow.keras.preprocessing import image\n",
    "import os\n",
    "import numpy as np\n",
    "import matplotlib.pyplot as plt\n",
    "import math\n",
    "\n",
    "\n",
    "#!/usr/bin/python\n",
    "from PIL import Image\n",
    "import os, sys\n",
    "\n",
    "def sigmoid(x):\n",
    "    return 1 / (1 + np.exp(-x))\n",
    "\n",
    "\n",
    "\n",
    "IMG_HEIGHT = 224\n",
    "IMG_WIDTH = 224\n",
    "#load model\n",
    "model = Sequential([\n",
    "    Conv2D(16, 3, padding='same', activation='relu', input_shape=(IMG_HEIGHT, IMG_WIDTH ,3)),\n",
    "    MaxPooling2D(),\n",
    "    Conv2D(32, 3, padding='same', activation='relu'),\n",
    "    MaxPooling2D(),\n",
    "    Conv2D(64, 3, padding='same', activation='relu'),\n",
    "    MaxPooling2D(),\n",
    "    Flatten(),\n",
    "    Dense(512, activation='relu'),\n",
    "    Dense(1)\n",
    "])\n",
    "\n",
    "model.load_weights('my_model.h5')\n",
    "\n",
    "\n",
    "face_cascade = cv2.CascadeClassifier('face.xml')\n",
    "sound_path = './ambulance.mp3'\n",
    "sound = vlc.MediaPlayer(sound_path)\n",
    "sound_playing = False\n",
    "\n",
    "cap = cv2.VideoCapture(0)\n",
    "cap.set(cv2.CAP_PROP_FRAME_WIDTH, 22) #1280, 640\n",
    "cap.set(cv2.CAP_PROP_FRAME_HEIGHT, 544) #720, 480\n",
    "    \n",
    "while(True):\n",
    "    ret, frame = cap.read()\n",
    "    gray = cv2.cvtColor(frame, cv2.COLOR_BGR2GRAY)\n",
    "    pred=0\n",
    "    \n",
    "    faces = face_cascade.detectMultiScale(gray, 1.2, 5) #detect faces\n",
    "    no_masks = []\n",
    "    for (x,y,w,h) in faces:\n",
    "        sub_img = gray[y:y+h, x:x+w] #take part of image that contains the face only\n",
    "        cv2.imwrite('deleted.jpg', sub_img) #save part of image that contains the face only\n",
    "        im = Image.open('deleted.jpg')\n",
    "        imResize = im.resize((224,224), Image.ANTIALIAS)\n",
    "        imResize.save('deleted' + '.jpg', 'JPEG', quality=90)\n",
    "        test_image = image.load_img('deleted.jpg'\n",
    "                   , target_size=(224, 224))\n",
    "        test_image = image.img_to_array(test_image)\n",
    "        test_image = np.expand_dims(test_image, axis=0)\n",
    "        result = model.predict(test_image)\n",
    "\n",
    "\n",
    "    \n",
    "        pred = sigmoid(result[0])\n",
    "        #pred = model.predict(img) # predict\n",
    "       \n",
    "        mask_label = 'No Mask! :(' if pred==1 else 'Mask ON :)'\n",
    "        color = (0, 0, 255) if pred==1 else (0, 255, 0)\n",
    "        cv2.rectangle(frame, (x, y), (x + w, y + h), color, 3) #draw box around detected face\n",
    "        cv2.putText(img=frame, text=mask_label, org=(x,y-10), fontFace=cv2.FONT_HERSHEY_DUPLEX, fontScale=1, color=color)\n",
    "    #check if at least one person is not wearing a mask. If so, play alert sound!\n",
    "    if pred==1:\n",
    "        if sound_playing == False:\n",
    "            sound_playing = True\n",
    "            sound.play()\n",
    "    else:\n",
    "        if sound_playing == True:\n",
    "            sound_playing = False\n",
    "            sound.stop()\n",
    "        \n",
    "    cv2.imshow('Driver_frame', frame)\n",
    "    k = cv2.waitKey(30) & 0xff\n",
    "    if k == 27:\n",
    "        break\n",
    "\n",
    "cap.release()\n",
    "cv2.destroyAllWindows()"
   ]
  },
  {
   "cell_type": "code",
   "execution_count": null,
   "metadata": {},
   "outputs": [],
   "source": []
  }
 ],
 "metadata": {
  "kernelspec": {
   "display_name": "Python 3",
   "language": "python",
   "name": "python3"
  },
  "language_info": {
   "codemirror_mode": {
    "name": "ipython",
    "version": 3
   },
   "file_extension": ".py",
   "mimetype": "text/x-python",
   "name": "python",
   "nbconvert_exporter": "python",
   "pygments_lexer": "ipython3",
   "version": "3.7.3"
  }
 },
 "nbformat": 4,
 "nbformat_minor": 2
}
